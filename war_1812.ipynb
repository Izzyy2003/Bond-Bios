{
 "cells": [
  {
   "cell_type": "code",
   "execution_count": 4,
   "metadata": {},
   "outputs": [],
   "source": [
    "# Import Data\n",
    "import pandas as pd \n",
    "bond_price = pd.read_csv(\"data/BondPrice.csv\")"
   ]
  },
  {
   "cell_type": "code",
   "execution_count": 5,
   "metadata": {},
   "outputs": [
    {
     "name": "stdout",
     "output_type": "stream",
     "text": [
      "    L1 ID   Series  1813-04-30  1813-05-31  1813-06-30  1813-07-31  \\\n",
      "50  20048  Average        93.0        92.0        93.0        91.0   \n",
      "\n",
      "    1813-08-31  1813-09-30  1813-10-31  1813-11-30  ...  1824-12-31  \\\n",
      "50        91.0        90.0        91.0        91.0  ...      100.25   \n",
      "\n",
      "    1825-01-31  1825-02-28  1825-03-31  1825-04-30  1825-05-31  1825-06-30  \\\n",
      "50      100.25      100.25      100.25      100.25      100.75       100.0   \n",
      "\n",
      "    1825-07-31  1825-08-31  1825-09-30  \n",
      "50      100.25      100.75       101.0  \n",
      "\n",
      "[1 rows x 152 columns]\n"
     ]
    }
   ],
   "source": [
    "# Six Percent Loan of 1812 \n",
    "# L1: 20048 \n",
    "# Price history\n",
    "six_percent_prices = bond_price[bond_price[\"L1 ID\"] == 20048] \n",
    "# Drop columns with NaN \n",
    "clean_six_percent_prices = six_percent_prices.dropna(axis=1) \n",
    "print(clean_six_percent_prices)"
   ]
  },
  {
   "cell_type": "code",
   "execution_count": null,
   "metadata": {},
   "outputs": [],
   "source": []
  }
 ],
 "metadata": {
  "kernelspec": {
   "display_name": "Python 3 (ipykernel)",
   "language": "python",
   "name": "python3"
  },
  "language_info": {
   "codemirror_mode": {
    "name": "ipython",
    "version": 3
   },
   "file_extension": ".py",
   "mimetype": "text/x-python",
   "name": "python",
   "nbconvert_exporter": "python",
   "pygments_lexer": "ipython3",
   "version": "3.12.4"
  }
 },
 "nbformat": 4,
 "nbformat_minor": 4
}
