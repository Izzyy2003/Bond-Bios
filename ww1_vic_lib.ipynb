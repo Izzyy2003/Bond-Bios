{
  "cells": [
    {
      "cell_type": "code",
      "execution_count": 1,
      "metadata": {
        "id": "2CPZ73SjRYup"
      },
      "outputs": [],
      "source": [
        "import pandas as pd\n",
        "import numpy as np\n",
        "import calendar as cal"
      ]
    },
    {
      "cell_type": "markdown",
      "metadata": {},
      "source": [
        "## Questions\n",
        " - what were the features of the bond?\n",
        " - why the bond was issued?\n",
        " - how much was authorized and how much was sold?\n",
        " - at what price was the bond originally sold and what was the price history on the secondary market?\n",
        " - when was the bond redeemed?"
      ]
    },
    {
      "cell_type": "markdown",
      "metadata": {
        "id": "_ixnrDCfH1H4"
      },
      "source": [
        "## Data format notes\n",
        " - PDF Readme on the dataframe's github [here](https://github.com/jepayne/US-Federal-Debt-Public/blob/master/Industrial-Suite/Documentation/ReadMe_Pub_20180910.pdf)\n",
        " - The order in which the categories are listed is not necessarily the same; some are switched to make the list read more logically\n",
        "\n",
        "### BondList\n",
        " - Import id is not used\n",
        " - Category L* describes the category in level L*\n",
        " - Category L* ID is the numeric ID of the above\n",
        " - Issue IDs are the numeric ID of a bond within its category\n",
        " - L* ID is the bond's ID within level L* (therefore, L1 ID is the unique id for each bond because it is the highest category, so it is the index)\n",
        " - Very few of the Authorizing Act Date entries are actually in the raw data, they may need imputing from the Authorizing Act string - for now, if you want an \"issuance date\" of the security use the \"First Issue Date\" column"
      ]
    },
    {
      "cell_type": "code",
      "execution_count": 2,
      "metadata": {
        "id": "Np0HHn_vTOHf"
      },
      "outputs": [],
      "source": [
        "Bondh5 = pd.HDFStore(\"data/BondDF.h5\", mode=\"r\")\n",
        "BondList = Bondh5[\"BondList\"]\n",
        "BondQuant = Bondh5[\"BondQuant\"]\n",
        "BondPrice = Bondh5[\"BondPrice\"]\n",
        "Bondh5.close()"
      ]
    },
    {
      "cell_type": "code",
      "execution_count": 3,
      "metadata": {},
      "outputs": [],
      "source": [
        "# Helper functions\n",
        "\n",
        "def get_cf_as_string(row):\n",
        "  \"\"\"\n",
        "  Takes a row from the BondList frame and returns the a string indicating the month which the bond\n",
        "  is scheduled.\n",
        "  \"\"\"\n",
        "  \n",
        "  for i in range(1, 13):\n",
        "    if row[f\"CF{str(i).zfill(2)}\"] > 0: return cal.month_name[i]\n",
        "  if row[\"Ambiguous\"] > 0: return \"Ambiguous\"\n",
        "  return \"N/A\"\n",
        "\n",
        "def is_nan(value):\n",
        "  \"\"\"\n",
        "  Utility to check if a value is nan\n",
        "  \"\"\"\n",
        "  str_value = str(value)\n",
        "  if str_value == \"nan\" or str_value == \"NaT\": return True\n"
      ]
    },
    {
      "cell_type": "markdown",
      "metadata": {
        "id": "dt-8N88jMVBz"
      },
      "source": [
        "## Liberty & Victory Loans\n",
        "\n",
        " - [This concise article](https://www.federalreservehistory.org/essays/liberty-bonds#footnote1) gives a summary of the bonds\n",
        " - Bonds are conveniently classified under the level three category \"Liberty Loan\"\n",
        " - The below cell isolates and prints information about the liberty loans from the BondList dataframe"
        " - These are the loans that were used to fund World War I."
      ]
    },
    {
      "cell_type": "code",
      "execution_count": 10,
      "metadata": {
        "colab": {
          "base_uri": "https://localhost:8080/",
          "height": 1000
        },
        "id": "-fliVTWQtVNJ",
        "outputId": "14839728-77e3-41ee-b7d6-72c6a6b24694"
      },
      "outputs": [
        {
          "name": "stdout",
          "output_type": "stream",
          "text": [
            "Bond #162: 1st Liberty Loan of 1917 (3.5%), issued 1917-06-30 00:00:00\n",
            "   Term: 30 years, Redeemable: 1932-06-15 00:00:00, Payable: 1947-06-15 00:00:00\n",
            "   Coupon: 3.5, Frequency: 2.0/year, Scheduled Month: June\n",
            "   Is callable: True, Coin: Yes/Unspecified\n",
            "---------------------------------------------------\n",
            "Bond #163: 1st Liberty Loan Converted to 4%, issued 1918-11-30 00:00:00\n",
            "   Term: 30 years, Redeemable: 1932-06-15 00:00:00, Payable: 1947-06-15 00:00:00\n",
            "   Coupon: 4.0, Frequency: 2.0/year, Scheduled Month: June\n",
            "   Is callable: True, Coin: Yes/Unspecified\n",
            "---------------------------------------------------\n",
            "Bond #164: 1st Liberty Loan Converted to 4.25%, issued 1918-11-30 00:00:00\n",
            "   Term: 30 years, Redeemable: 1932-06-15 00:00:00, Payable: 1947-06-15 00:00:00\n",
            "   Coupon: 4.25, Frequency: 2.0/year, Scheduled Month: June\n",
            "   Is callable: True, Coin: Yes/Unspecified\n",
            "---------------------------------------------------\n",
            "Bond #165: 1st Liberty Loan Second Converted to 4.25%, issued 1918-10-24 00:00:00\n",
            "   Term: 30 years, Redeemable: 1932-06-15 00:00:00, Payable: 1947-06-15 00:00:00\n",
            "   Coupon: 4.25, Frequency: 2.0/year, Scheduled Month: June\n",
            "   Is callable: True, Coin: Yes/Unspecified\n",
            "---------------------------------------------------\n",
            "Bond #166: 2nd Liberty Loan of 1917 (4%), issued 1917-10-31 00:00:00\n",
            "   Term: 25 years, Redeemable: 1927-11-15 00:00:00, Payable: 1942-11-15 00:00:00\n",
            "   Coupon: 4.0, Frequency: 2.0/year, Scheduled Month: May\n",
            "   Is callable: True, Coin: Yes/Unspecified\n",
            "---------------------------------------------------\n",
            "Bond #167: 2nd Liberty Loan Converted to 4.25%, issued 1918-11-30 00:00:00\n",
            "   Term: 25 years, Redeemable: 1927-11-15 00:00:00, Payable: 1942-11-15 00:00:00\n",
            "   Coupon: 4.25, Frequency: 2.0/year, Scheduled Month: May\n",
            "   Is callable: True, Coin: Yes/Unspecified\n",
            "---------------------------------------------------\n",
            "Bond #168: 3rd Liberty Loan, issued 1918-05-31 00:00:00\n",
            "   Term: 10 years, Redeemable: NaT, Payable: 1928-09-15 00:00:00\n",
            "   Coupon: 4.25, Frequency: 2.0/year, Scheduled Month: March\n",
            "   Is callable: False, Coin: Yes/Unspecified\n",
            "---------------------------------------------------\n",
            "Bond #169: 4th Liberty Loan, issued 1918-09-30 00:00:00\n",
            "   Term: 20 years, Redeemable: 1933-10-15 00:00:00, Payable: 1938-10-15 00:00:00\n",
            "   Coupon: 4.25, Frequency: 2.0/year, Scheduled Month: April\n",
            "   Is callable: True, Coin: Yes/Unspecified\n",
            "---------------------------------------------------\n",
            "Bond #170: Victory Liberty Loan (4 3/4%), issued 1919-05-20 00:00:00\n",
            "   Term: 4 years, Redeemable: 1922-06-15 00:00:00, Payable: 1923-05-20 00:00:00\n",
            "   Coupon: 4.75, Frequency: 2.0/year, Scheduled Month: June\n",
            "   Is callable: True, Coin: Yes/Unspecified\n",
            "---------------------------------------------------\n",
            "Bond #171: Victory Liberty Loan (3 3/4%), issued 1919-05-20 00:00:00\n",
            "   Term: 4 years, Redeemable: 1922-12-15 00:00:00, Payable: 1923-05-20 00:00:00\n",
            "   Coupon: 3.75, Frequency: 2.0/year, Scheduled Month: June\n",
            "   Is callable: True, Coin: Yes/Unspecified\n",
            "---------------------------------------------------\n",
            "Bond #176: Vic Lib Loan 4.75s, called, issued 1919-05-20 00:00:00\n",
            "   No further information\n",
            "Bond #177: Vic Lib Loan 4.75s, 1922-23, issued 1919-05-20 00:00:00\n",
            "   No further information\n",
            "Bond #178: Vic Lib Loan 4.75 of 1922-1923 and 3.75 of 1922-1923, issued 1919-05-20 00:00:00\n",
            "   No further information\n",
            "Bond #1928: 3.5%, 4%, and 4.25% First Liberty Loan\n",
            "   No further information\n",
            "Bond #1929:  4% and 4.25% Second Liberty Loan of 1927-42\n",
            "   No further information\n",
            "Bond #1930: Liberty Bonds and Victory Loans\n",
            "   No further information\n",
            "Bond #1934: 4.75%  Notes of 1922-23 (with Serial letters \"A\" to \"F\")\n",
            "   No further information\n",
            "Bond #1935: 4.75% Notes of 1922-23 (with Serial letters \"G\" to \"L\")\n",
            "   No further information\n",
            "Bond #1936: Sum of \"A\" to \"F\" and \"G\" to \"L\" of 4.75% Notes of 1922-23\n",
            "   No further information\n",
            "Bond #1937: 3.75 Notes of 1922-23\n",
            "   No further information\n",
            "Bond #1938: 3.75% and 4.75% Victory Notes\n",
            "   No further information\n",
            "Bond #2801: First Liberty bonds, at various rates\n",
            "   No further information\n",
            "Bond #2802: Liberty Bonds and Victory Notes\n",
            "   No further information\n",
            "Done\n"
          ]
        }
      ],
      "source": [
        "liberty_loans = BondList.loc[(BondList['Category L3'] == \"Liberty Loan\")]\n",
        "BondList.iloc[:, 0]\n",
        "\n",
        "def summarize_bond(bond_row):\n",
        "  noi = bond_row[\"Treasury's Name Of Issue\"]\n",
        "  print(f\"Bond #{bond_row['Issue L1 ID']}: {noi}{', issued ' + str(bond_row['First Issue Date']) if not is_nan(bond_row['First Issue Date']) else ''}\")\n",
        "  if is_nan(bond_row[\"Term Of Loan\"]):\n",
        "    print(\"   No further information\")\n",
        "    return bond_row\n",
        "  print(f\"   Term: {bond_row['Term Of Loan']}, Redeemable: {bond_row['Redeemable After Date']}, Payable: {bond_row['Payable Date']}\")\n",
        "  print(f\"   Coupon: {bond_row['Coupon Rate']}, Frequency: {bond_row['Coupons Per Year']}/year, Scheduled Month: {get_cf_as_string(bond_row)}\")\n",
        "  print(f\"   Is callable: {bond_row['Callable'] == 1.0}, Coin: {'Yes/Unspecified' if bond_row['Coin'] > 0 else 'No'}\")\n",
        "  print(\"---------------------------------------------------\")\n",
        "  return bond_row\n",
        "\n",
        "liberty_loans.apply(summarize_bond, axis=1)\n",
        "print(\"Done\") #Here so the cell output does not include the dataframe snippet"
      ]
    }
  ],
  "metadata": {
    "colab": {
      "provenance": []
    },
    "kernelspec": {
      "display_name": "Python 3",
      "name": "python3"
    },
    "language_info": {
      "codemirror_mode": {
        "name": "ipython",
        "version": 3
      },
      "file_extension": ".py",
      "mimetype": "text/x-python",
      "name": "python",
      "nbconvert_exporter": "python",
      "pygments_lexer": "ipython3",
      "version": "3.11.5"
    }
  },
  "nbformat": 4,
  "nbformat_minor": 0
}
